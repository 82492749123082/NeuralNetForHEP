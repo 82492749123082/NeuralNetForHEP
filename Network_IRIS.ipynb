{
  "nbformat": 4,
  "nbformat_minor": 0,
  "metadata": {
    "colab": {
      "name": "Network IRIS",
      "provenance": [],
      "collapsed_sections": []
    },
    "kernelspec": {
      "name": "python3",
      "display_name": "Python 3"
    }
  },
  "cells": [
    {
      "cell_type": "code",
      "metadata": {
        "id": "4Q4lKIKYsd3v",
        "colab_type": "code",
        "colab": {}
      },
      "source": [
        "import torch\n",
        "from torch import nn\n",
        "import numpy as np\n",
        "import pandas as pd\n",
        "\n",
        "from sklearn.model_selection import train_test_split\n",
        "from matplotlib import pyplot as plt\n",
        "from sklearn.datasets import load_iris"
      ],
      "execution_count": 0,
      "outputs": []
    },
    {
      "cell_type": "code",
      "metadata": {
        "id": "tn9622-0vMWq",
        "colab_type": "code",
        "colab": {}
      },
      "source": [
        "data = load_iris()"
      ],
      "execution_count": 0,
      "outputs": []
    },
    {
      "cell_type": "code",
      "metadata": {
        "id": "ZpqS1VMIs0P2",
        "colab_type": "code",
        "colab": {}
      },
      "source": [
        "df = pd.DataFrame(data['data'], columns=data['feature_names'])\n",
        "df['target'] = data['target']"
      ],
      "execution_count": 0,
      "outputs": []
    },
    {
      "cell_type": "code",
      "metadata": {
        "id": "XP_bLC7XvcyI",
        "colab_type": "code",
        "colab": {}
      },
      "source": [
        "X, y = df.drop(['target'], axis=1), df.target"
      ],
      "execution_count": 0,
      "outputs": []
    },
    {
      "cell_type": "code",
      "metadata": {
        "id": "mrYUx2VWtnNr",
        "colab_type": "code",
        "colab": {}
      },
      "source": [
        "X_train, X_test, y_train, y_test = train_test_split(X, y)"
      ],
      "execution_count": 0,
      "outputs": []
    },
    {
      "cell_type": "markdown",
      "metadata": {
        "id": "jUgW7UsXwL6G",
        "colab_type": "text"
      },
      "source": [
        "Normalize"
      ]
    },
    {
      "cell_type": "code",
      "metadata": {
        "id": "4szwMvOgvpMf",
        "colab_type": "code",
        "colab": {}
      },
      "source": [
        "m = X.mean()\n",
        "s = X.std()\n",
        "X_train = (X_train - m)/s\n",
        "X_test  = (X_test  - m)/s"
      ],
      "execution_count": 0,
      "outputs": []
    },
    {
      "cell_type": "code",
      "metadata": {
        "id": "7MtXOlmwxApD",
        "colab_type": "code",
        "colab": {}
      },
      "source": [
        "X_train = torch.FloatTensor(X_train.values)\n",
        "X_test  = torch.FloatTensor(X_test.values)"
      ],
      "execution_count": 0,
      "outputs": []
    },
    {
      "cell_type": "code",
      "metadata": {
        "id": "fodZrHtkxhWk",
        "colab_type": "code",
        "colab": {}
      },
      "source": [
        "y_train = torch.LongTensor(y_train.values)\n",
        "y_test  = torch.LongTensor( y_test.values)"
      ],
      "execution_count": 0,
      "outputs": []
    },
    {
      "cell_type": "markdown",
      "metadata": {
        "id": "1-QseLw1w6p1",
        "colab_type": "text"
      },
      "source": [
        "Network"
      ]
    },
    {
      "cell_type": "code",
      "metadata": {
        "id": "fzgTPsxOyy4e",
        "colab_type": "code",
        "outputId": "0b399932-44dc-4ca3-ba9b-0850e0d62199",
        "colab": {
          "base_uri": "https://localhost:8080/",
          "height": 35
        }
      },
      "source": [
        "y.nunique()"
      ],
      "execution_count": 0,
      "outputs": [
        {
          "output_type": "execute_result",
          "data": {
            "text/plain": [
              "3"
            ]
          },
          "metadata": {
            "tags": []
          },
          "execution_count": 49
        }
      ]
    },
    {
      "cell_type": "code",
      "metadata": {
        "id": "fHk5pWE5w51g",
        "colab_type": "code",
        "colab": {}
      },
      "source": [
        "torch.manual_seed(42)\n",
        "np.random.seed(42)"
      ],
      "execution_count": 0,
      "outputs": []
    },
    {
      "cell_type": "code",
      "metadata": {
        "id": "eNKK1DShwaZj",
        "colab_type": "code",
        "colab": {}
      },
      "source": [
        "model = nn.Sequential(\n",
        "    nn.Linear(X.shape[1], 30),\n",
        "    nn.Sigmoid(),\n",
        "    nn.Linear(30, 40),\n",
        "    nn.Sigmoid(),\n",
        "    nn.Linear(40, 3)\n",
        ")"
      ],
      "execution_count": 0,
      "outputs": []
    },
    {
      "cell_type": "code",
      "metadata": {
        "id": "1kFXlsG6yQ8t",
        "colab_type": "code",
        "colab": {}
      },
      "source": [
        "loss_fn = nn.CrossEntropyLoss()\n",
        "optimizer = torch.optim.Adam(model.parameters(), 1e-2)"
      ],
      "execution_count": 0,
      "outputs": []
    },
    {
      "cell_type": "code",
      "metadata": {
        "id": "m_dIeiCWzQSD",
        "colab_type": "code",
        "colab": {}
      },
      "source": [
        "def train(num_epoch):\n",
        "  train_losses = []\n",
        "  test_losses = []\n",
        "  for i in range(num_epoch):\n",
        "    model.train(True)\n",
        "    #Loss\n",
        "    y_pred = model(X_train)\n",
        "    train_loss = loss_fn(y_pred, y_train)\n",
        "    train_losses.append( float(train_loss) )\n",
        "    #zero grad\n",
        "    optimizer.zero_grad()\n",
        "    #back prop\n",
        "    train_loss.backward()\n",
        "    #update weigths\n",
        "    optimizer.step()\n",
        "\n",
        "    model.train(False)\n",
        "    y_pred = model(X_test)\n",
        "    test_loss = loss_fn(y_pred, y_test)\n",
        "    test_losses.append( float(test_loss) )\n",
        "\n",
        "  return train_losses, test_losses \n"
      ],
      "execution_count": 0,
      "outputs": []
    },
    {
      "cell_type": "code",
      "metadata": {
        "id": "TsajUoB4zgKT",
        "colab_type": "code",
        "outputId": "dbe25d31-bdae-46cc-cae5-7dcfe197f0d0",
        "colab": {
          "base_uri": "https://localhost:8080/",
          "height": 287
        }
      },
      "source": [
        "train_losses, test_losses = train(80)\n",
        "plt.plot(range(len(train_losses)), train_losses, label='train')\n",
        "plt.plot(range(len(test_losses)), test_losses, label='test')\n",
        "plt.legend()"
      ],
      "execution_count": 0,
      "outputs": [
        {
          "output_type": "execute_result",
          "data": {
            "text/plain": [
              "<matplotlib.legend.Legend at 0x7f032641f9b0>"
            ]
          },
          "metadata": {
            "tags": []
          },
          "execution_count": 87
        },
        {
          "output_type": "display_data",
          "data": {
            "image/png": "[encoded data removed]",
            "text/plain": [
              "<Figure size 432x288 with 1 Axes>"
            ]
          },
          "metadata": {
            "tags": []
          }
        }
      ]
    },
    {
      "cell_type": "markdown",
      "metadata": {
        "id": "ps0zDPoj2Jlx",
        "colab_type": "text"
      },
      "source": [
        "Predictions"
      ]
    },
    {
      "cell_type": "code",
      "metadata": {
        "id": "G9taEb0Z11pQ",
        "colab_type": "code",
        "colab": {}
      },
      "source": [
        "y_pred1 = np.argmax( model(X_test).detach().numpy(), axis=1 )\n",
        "y_test1 = y_test.numpy()"
      ],
      "execution_count": 0,
      "outputs": []
    },
    {
      "cell_type": "code",
      "metadata": {
        "id": "jSku--oA2SfC",
        "colab_type": "code",
        "outputId": "32f13e7f-4f7e-4fed-a682-7b5151426e5c",
        "colab": {
          "base_uri": "https://localhost:8080/",
          "height": 35
        }
      },
      "source": [
        "((y_pred1 == y_test1).sum())/y_pred1.size"
      ],
      "execution_count": 0,
      "outputs": [
        {
          "output_type": "execute_result",
          "data": {
            "text/plain": [
              "0.9736842105263158"
            ]
          },
          "metadata": {
            "tags": []
          },
          "execution_count": 107
        }
      ]
    },
    {
      "cell_type": "code",
      "metadata": {
        "id": "om8hqVmk5JBh",
        "colab_type": "code",
        "colab": {}
      },
      "source": [
        ""
      ],
      "execution_count": 0,
      "outputs": []
    }
  ]
}